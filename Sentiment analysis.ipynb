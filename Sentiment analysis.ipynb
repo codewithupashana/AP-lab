{
 "cells": [
  {
   "cell_type": "code",
   "execution_count": 1,
   "id": "09bc0629-8a6b-49ae-b875-664a735cfc77",
   "metadata": {},
   "outputs": [
    {
     "name": "stdout",
     "output_type": "stream",
     "text": [
      "Requirement already satisfied: nltk in c:\\users\\kiit\\anaconda3\\lib\\site-packages (3.9.1)\n",
      "Requirement already satisfied: click in c:\\users\\kiit\\anaconda3\\lib\\site-packages (from nltk) (8.1.7)\n",
      "Requirement already satisfied: joblib in c:\\users\\kiit\\anaconda3\\lib\\site-packages (from nltk) (1.4.2)\n",
      "Requirement already satisfied: regex>=2021.8.3 in c:\\users\\kiit\\anaconda3\\lib\\site-packages (from nltk) (2024.9.11)\n",
      "Requirement already satisfied: tqdm in c:\\users\\kiit\\anaconda3\\lib\\site-packages (from nltk) (4.66.5)\n",
      "Requirement already satisfied: colorama in c:\\users\\kiit\\anaconda3\\lib\\site-packages (from click->nltk) (0.4.6)\n"
     ]
    }
   ],
   "source": [
    "!pip install nltk\n"
   ]
  },
  {
   "cell_type": "code",
   "execution_count": 3,
   "id": "3551fc31-f39d-49c9-9a0a-998158fc3a97",
   "metadata": {},
   "outputs": [
    {
     "name": "stderr",
     "output_type": "stream",
     "text": [
      "[nltk_data] Downloading package opinion_lexicon to\n",
      "[nltk_data]     C:\\Users\\KIIT\\AppData\\Roaming\\nltk_data...\n",
      "[nltk_data]   Package opinion_lexicon is already up-to-date!\n",
      "[nltk_data] Downloading package punkt to\n",
      "[nltk_data]     C:\\Users\\KIIT\\AppData\\Roaming\\nltk_data...\n",
      "[nltk_data]   Package punkt is already up-to-date!\n"
     ]
    },
    {
     "data": {
      "text/plain": [
       "True"
      ]
     },
     "execution_count": 3,
     "metadata": {},
     "output_type": "execute_result"
    }
   ],
   "source": [
    "import nltk\n",
    "nltk.download('opinion_lexicon')\n",
    "nltk.download('punkt')\n"
   ]
  },
  {
   "cell_type": "code",
   "execution_count": 21,
   "id": "b4d7c477-e6fd-4972-a1c3-ca963c0fc5b7",
   "metadata": {},
   "outputs": [
    {
     "name": "stderr",
     "output_type": "stream",
     "text": [
      "[nltk_data] Downloading package opinion_lexicon to\n",
      "[nltk_data]     C:\\Users\\KIIT\\AppData\\Roaming\\nltk_data...\n",
      "[nltk_data]   Package opinion_lexicon is already up-to-date!\n",
      "[nltk_data] Downloading package punkt to\n",
      "[nltk_data]     C:\\Users\\KIIT\\AppData\\Roaming\\nltk_data...\n",
      "[nltk_data]   Package punkt is already up-to-date!\n"
     ]
    },
    {
     "data": {
      "text/plain": [
       "True"
      ]
     },
     "execution_count": 21,
     "metadata": {},
     "output_type": "execute_result"
    }
   ],
   "source": [
    "import nltk\n",
    "nltk.download('opinion_lexicon')\n",
    "nltk.download('punkt')\n"
   ]
  },
  {
   "cell_type": "code",
   "execution_count": 29,
   "id": "a0cb8351-a683-4e4f-a519-78b474d8435f",
   "metadata": {},
   "outputs": [
    {
     "name": "stderr",
     "output_type": "stream",
     "text": [
      "[nltk_data] Downloading package punkt to\n",
      "[nltk_data]     C:\\Users\\KIIT\\AppData\\Roaming\\nltk_data...\n",
      "[nltk_data]   Package punkt is already up-to-date!\n"
     ]
    },
    {
     "data": {
      "text/plain": [
       "True"
      ]
     },
     "execution_count": 29,
     "metadata": {},
     "output_type": "execute_result"
    }
   ],
   "source": [
    "import nltk\n",
    "nltk.download('punkt')\n"
   ]
  },
  {
   "cell_type": "code",
   "execution_count": 40,
   "id": "30ff8200-e054-42f8-8344-fe43f05cacc5",
   "metadata": {},
   "outputs": [
    {
     "name": "stderr",
     "output_type": "stream",
     "text": [
      "[nltk_data] Downloading package opinion_lexicon to\n",
      "[nltk_data]     C:\\Users\\KIIT\\AppData\\Roaming\\nltk_data...\n",
      "[nltk_data]   Package opinion_lexicon is already up-to-date!\n",
      "[nltk_data] Downloading package punkt to\n",
      "[nltk_data]     C:\\Users\\KIIT\\AppData\\Roaming\\nltk_data...\n",
      "[nltk_data]   Package punkt is already up-to-date!\n"
     ]
    }
   ],
   "source": [
    "import pandas as pd\n",
    "import nltk\n",
    "from nltk.corpus import opinion_lexicon\n",
    "from nltk.tokenize import word_tokenize\n",
    "import seaborn as sns\n",
    "import matplotlib.pyplot as plt\n",
    "import os\n",
    "\n",
    "# Download necessary NLTK data\n",
    "nltk.download('opinion_lexicon')\n",
    "nltk.download('punkt')  # Download correct tokenizer\n",
    "\n",
    "# Provide the correct file path\n",
    "file_path = (\"bestsellers with categories.csv\")  # Update this path\n",
    "\n",
    "# Check if file exists\n",
    "if not os.path.exists(file_path):\n",
    "    print(f\"Error: File not found at {file_path}\")\n",
    "else:\n",
    "    # Load dataset\n",
    "    df = pd.read_csv(file_path)\n",
    "\n",
    "    \n"
   ]
  },
  {
   "cell_type": "code",
   "execution_count": 62,
   "id": "3138d659-181b-4abf-9419-8321b3124c01",
   "metadata": {},
   "outputs": [
    {
     "name": "stdout",
     "output_type": "stream",
     "text": [
      "                                                Name  \\\n",
      "0                      10-Day Green Smoothie Cleanse   \n",
      "1                                  11/22/63: A Novel   \n",
      "2            12 Rules for Life: An Antidote to Chaos   \n",
      "3                             1984 (Signet Classics)   \n",
      "4  5,000 Awesome Facts (About Everything!) (Natio...   \n",
      "\n",
      "                     Author  User Rating  Reviews  Price  Year        Genre  \n",
      "0                  JJ Smith          4.7    17350      8  2016  Non Fiction  \n",
      "1              Stephen King          4.6     2052     22  2011      Fiction  \n",
      "2        Jordan B. Peterson          4.7    18979     15  2018  Non Fiction  \n",
      "3             George Orwell          4.7    21424      6  2017      Fiction  \n",
      "4  National Geographic Kids          4.8     7665     12  2019  Non Fiction  \n"
     ]
    }
   ],
   "source": [
    "# Check if 'Name' column exists\n",
    "if 'Name' not in df.columns:\n",
    "    print(\"Error: 'Name' column not found in dataset.\")\n",
    "else:\n",
    "    # Display first few rows of the dataset\n",
    "    print(df.head())\n",
    "\n"
   ]
  },
  {
   "cell_type": "code",
   "execution_count": 69,
   "id": "e69c1277-9507-4d0c-9b22-b6b11f05ed33",
   "metadata": {},
   "outputs": [
    {
     "name": "stdout",
     "output_type": "stream",
     "text": [
      "                                                Name  \\\n",
      "0                      10-Day Green Smoothie Cleanse   \n",
      "1                                  11/22/63: A Novel   \n",
      "2            12 Rules for Life: An Antidote to Chaos   \n",
      "3                             1984 (Signet Classics)   \n",
      "4  5,000 Awesome Facts (About Everything!) (Natio...   \n",
      "\n",
      "                     Author  User Rating  Reviews  Price  Year        Genre  \n",
      "0                  JJ Smith          4.7    17350      8  2016  Non Fiction  \n",
      "1              Stephen King          4.6     2052     22  2011      Fiction  \n",
      "2        Jordan B. Peterson          4.7    18979     15  2018  Non Fiction  \n",
      "3             George Orwell          4.7    21424      6  2017      Fiction  \n",
      "4  National Geographic Kids          4.8     7665     12  2019  Non Fiction  \n"
     ]
    }
   ],
   "source": [
    "# Display first few rows of the dataset\n",
    "print(df.head())\n",
    "\n",
    "# Load positive & negative word lists from NLTK\n",
    "positive_words = set(opinion_lexicon.positive())\n",
    "negative_words = set(opinion_lexicon.negative())\n"
   ]
  },
  {
   "cell_type": "code",
   "execution_count": 72,
   "id": "96bb56ff-5a70-458d-a8f3-1c427eed0d34",
   "metadata": {},
   "outputs": [],
   "source": [
    "# Function to extract sentiment words from book titles\n",
    "def extract_sentiment_words(title):\n",
    "    if pd.isna(title):  # Handle NaN values\n",
    "        return [], []\n",
    "\n",
    "    words = word_tokenize(str(title).lower())  # Convert title to string before tokenizing\n",
    "    pos_words = [word for word in words if word in positive_words]\n",
    "    neg_words = [word for word in words if word in negative_words]\n",
    "    \n",
    "    return pos_words, neg_words\n"
   ]
  },
  {
   "cell_type": "code",
   "execution_count": 84,
   "id": "bf00a6a2-7460-4f78-abee-42d0af8d4430",
   "metadata": {},
   "outputs": [
    {
     "name": "stderr",
     "output_type": "stream",
     "text": [
      "[nltk_data] Downloading package punkt_tab to\n",
      "[nltk_data]     C:\\Users\\KIIT\\AppData\\Roaming\\nltk_data...\n",
      "[nltk_data]   Package punkt_tab is already up-to-date!\n"
     ]
    },
    {
     "data": {
      "text/plain": [
       "True"
      ]
     },
     "execution_count": 84,
     "metadata": {},
     "output_type": "execute_result"
    }
   ],
   "source": [
    "import nltk\n",
    "\n",
    "# Download 'punkt' tokenizer\n",
    "nltk.download('punkt_tab')  # Ensure the punkt tokenizer is downloaded\n",
    "\n"
   ]
  },
  {
   "cell_type": "code",
   "execution_count": 90,
   "id": "82509e04-bc40-4c36-a487-531221c67347",
   "metadata": {},
   "outputs": [],
   "source": [
    "# Apply function to book titles\n",
    "df['Positive_Words'], df['Negative_Words'] = zip(*df['Name'].apply(extract_sentiment_words))\n",
    "\n",
    "        # Flatten the lists of words and count total positive & negative words\n",
    "pos_word_count = df['Positive_Words'].explode().value_counts().head(10)\n",
    "neg_word_count = df['Negative_Words'].explode().value_counts().head(10)"
   ]
  },
  {
   "cell_type": "code",
   "execution_count": 92,
   "id": "2aa677bb-3c53-489c-a315-9b01490de5bb",
   "metadata": {},
   "outputs": [
    {
     "data": {
      "image/png": "[encoded data removed]",
      "text/plain": [
       "<Figure size 1200x500 with 2 Axes>"
      ]
     },
     "metadata": {},
     "output_type": "display_data"
    }
   ],
   "source": [
    "# Plot positive vs negative words\n",
    "fig, ax = plt.subplots(1, 2, figsize=(12, 5))\n",
    "sns.barplot(y=pos_word_count.index, x=pos_word_count.values, ax=ax[0], color='green')\n",
    "ax[0].set_title(\"Top Positive Words in Book Titles\")\n",
    "\n",
    "sns.barplot(y=neg_word_count.index, x=neg_word_count.values, ax=ax[1], color='red')\n",
    "ax[1].set_title(\"Top Negative Words in Book Titles\")\n",
    "\n",
    "plt.tight_layout()\n",
    "plt.show()"
   ]
  },
  {
   "cell_type": "code",
   "execution_count": 100,
   "id": "aadcdbd3-70e0-444d-8c86-3bc9565c3bfc",
   "metadata": {},
   "outputs": [],
   "source": [
    "# Define sentiment label based on positive and negative word counts\n",
    "def assign_sentiment(row):\n",
    "    if len(row['Positive_Words']) > len(row['Negative_Words']):\n",
    "        return 'Positive'\n",
    "    elif len(row['Negative_Words']) > len(row['Positive_Words']):\n",
    "        return 'Negative'\n",
    "    else:\n",
    "        return 'Neutral'  # If equal, we can label it neutral\n",
    "\n",
    "# Assign sentiment labels\n",
    "df['Predicted_Sentiment'] = df.apply(assign_sentiment, axis=1)\n"
   ]
  },
  {
   "cell_type": "code",
   "execution_count": 102,
   "id": "6811e25c-214a-412b-9a9e-5cd1101dc296",
   "metadata": {},
   "outputs": [
    {
     "name": "stdout",
     "output_type": "stream",
     "text": [
      "No actual sentiment labels found. Please add the 'Actual_Sentiment' column to compute accuracy.\n"
     ]
    }
   ],
   "source": [
    "# Assign sentiment labels\n",
    "df['Predicted_Sentiment'] = df.apply(assign_sentiment, axis=1)\n",
    "\n",
    "# If you have actual sentiment labels in the dataset, you can compare them with the predicted labels:\n",
    "# For example, assuming you manually labeled a few rows:\n",
    "# df['Actual_Sentiment'] = ['Positive', 'Negative', 'Neutral', ...]  # Add actual sentiment labels\n",
    "\n",
    "if 'Actual_Sentiment' in df.columns:\n",
    "    from sklearn.metrics import accuracy_score\n",
    "    accuracy = accuracy_score(df['Actual_Sentiment'], df['Predicted_Sentiment'])\n",
    "    print(f\"Accuracy: {accuracy * 100:.2f}%\")\n",
    "else:\n",
    "    print(\"No actual sentiment labels found. Please add the 'Actual_Sentiment' column to compute accuracy.\")\n"
   ]
  },
  {
   "cell_type": "code",
   "execution_count": null,
   "id": "ac4173f7-9ec6-446e-afa1-bf224f238e7f",
   "metadata": {},
   "outputs": [],
   "source": []
  },
  {
   "cell_type": "code",
   "execution_count": null,
   "id": "ac6a1457-1adf-4a84-8b3c-e002a7c55766",
   "metadata": {},
   "outputs": [],
   "source": []
  }
 ],
 "metadata": {
  "kernelspec": {
   "display_name": "Python [conda env:base] *",
   "language": "python",
   "name": "conda-base-py"
  },
  "language_info": {
   "codemirror_mode": {
    "name": "ipython",
    "version": 3
   },
   "file_extension": ".py",
   "mimetype": "text/x-python",
   "name": "python",
   "nbconvert_exporter": "python",
   "pygments_lexer": "ipython3",
   "version": "3.12.7"
  }
 },
 "nbformat": 4,
 "nbformat_minor": 5
}
