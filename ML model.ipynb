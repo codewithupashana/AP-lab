{
 "cells": [
  {
   "cell_type": "code",
   "execution_count": 92,
   "id": "f474666c-6e7d-43c3-aead-119869d419e4",
   "metadata": {},
   "outputs": [],
   "source": [
    "import pandas as pd\n",
    "from sklearn.model_selection import train_test_split\n",
    "from sklearn.preprocessing import LabelEncoder, StandardScaler\n",
    "from sklearn.ensemble import RandomForestRegressor\n",
    "from sklearn.metrics import mean_squared_error, r2_score"
   ]
  },
  {
   "cell_type": "code",
   "execution_count": 94,
   "id": "4e571960-dc6c-4a80-b95f-05f6b9c16ab4",
   "metadata": {},
   "outputs": [],
   "source": [
    "df = pd.read_csv(\"bestsellers with categories.csv\")"
   ]
  },
  {
   "cell_type": "code",
   "execution_count": 98,
   "id": "552e5e24-2f70-4f4b-8d81-d0c0266aedbe",
   "metadata": {},
   "outputs": [],
   "source": [
    "data = {\n",
    "    'Name': ['Book1', 'Book2', 'Book3', 'Book4', 'Book5'],\n",
    "    'Author': ['Author1', 'Author2', 'Author3', 'Author4', 'Author5'],\n",
    "    'User Rating': [4.5, 4.0, 4.8, 3.5, 4.2],\n",
    "    'Reviews': [2000, 1500, 3000, 800, 1200],\n",
    "    'Price': [15.99, 20.99, 18.50, 22.00, 12.99],\n",
    "    'Year': [2021, 2020, 2022, 2019, 2021],\n",
    "    'Genre': ['Fantasy', 'Sci-Fi', 'Romance', 'Thriller', 'Fantasy']\n",
    "}"
   ]
  },
  {
   "cell_type": "code",
   "execution_count": 124,
   "id": "da42b349-8743-42d7-8aa7-f9ccb604a1ca",
   "metadata": {},
   "outputs": [],
   "source": [
    "# Create DataFrame\n",
    "df = pd.DataFrame(data)\n",
    "\n",
    "# Step 3: Handle Missing Values (if any)\n",
    "df['Author'] = df['Author'].fillna('Unknown')  # Assign directly\n",
    "df['Genre'] = df['Genre'].fillna('Unknown')  # Assign directly\n",
    "df['Reviews'] = df['Reviews'].fillna(df['Reviews'].mean())  # Assign directly\n",
    "df['Price'] = df['Price'].fillna(df['Price'].mean())  # Assign directly\n",
    "df['Year'] = df['Year'].fillna(df['Year'].mean())  # Assign directly\n",
    "\n",
    "# Step 4: Encode Categorical Features (Author, Genre)\n",
    "label_encoder = LabelEncoder()\n",
    "df['Author'] = label_encoder.fit_transform(df['Author'])\n",
    "df['Genre'] = label_encoder.fit_transform(df['Genre'])\n"
   ]
  },
  {
   "cell_type": "code",
   "execution_count": 102,
   "id": "ccbe1f17-6c8a-482b-ba30-86fca1a5d5b7",
   "metadata": {},
   "outputs": [],
   "source": [
    "# Step 5: Define Features (X) and Target (y)\n",
    "X = df.drop(columns=['Name', 'User Rating'])  # Drop non-relevant columns like 'Name' and 'User Rating'\n",
    "y = df['User Rating']  # Target column is 'User Rating'\n",
    "\n",
    "# Step 6: Split the Data into Training and Testing Sets\n",
    "X_train, X_test, y_train, y_test = train_test_split(X, y, test_size=0.2, random_state=42)\n",
    "\n",
    "# Step 7: Feature Scaling (Scale numerical columns)\n",
    "scaler = StandardScaler()\n",
    "X_train[['Reviews', 'Price', 'Year']] = scaler.fit_transform(X_train[['Reviews', 'Price', 'Year']])\n",
    "X_test[['Reviews', 'Price', 'Year']] = scaler.transform(X_test[['Reviews', 'Price', 'Year']])\n"
   ]
  },
  {
   "cell_type": "code",
   "execution_count": 108,
   "id": "67a32c18-8ce9-4464-aa7a-6b8ae57bbfec",
   "metadata": {},
   "outputs": [
    {
     "name": "stdout",
     "output_type": "stream",
     "text": [
      "R^2 Score is not well-defined with less than two samples.\n",
      "Mean Squared Error: 0.05\n",
      "Root Mean Squared Error: 0.22\n"
     ]
    }
   ],
   "source": [
    "# Step 8: Train a RandomForest Regressor Model\n",
    "model = RandomForestRegressor(random_state=42)\n",
    "model.fit(X_train, y_train)\n",
    "\n",
    "# Step 9: Make Predictions\n",
    "y_pred = model.predict(X_test)\n",
    "\n",
    "# Step 10: Evaluate the Model Performance\n",
    "mse = mean_squared_error(y_test, y_pred)\n",
    "rmse = mse ** 0.5\n",
    "\n",
    "# Check if there are at least two samples in the test set before calculating R²\n",
    "if len(y_test) > 1:\n",
    "    r2 = r2_score(y_test, y_pred)\n",
    "    print(f\"R^2 Score: {r2:.2f}\")\n",
    "else:\n",
    "    print(\"R^2 Score is not well-defined with less than two samples.\")\n",
    "\n",
    "# Print the evaluation metrics\n",
    "print(f\"Mean Squared Error: {mse:.2f}\")\n",
    "print(f\"Root Mean Squared Error: {rmse:.2f}\")\n"
   ]
  },
  {
   "cell_type": "code",
   "execution_count": 122,
   "id": "22147a89-ad87-43df-83ea-a50641d4a999",
   "metadata": {},
   "outputs": [
    {
     "name": "stdout",
     "output_type": "stream",
     "text": [
      "Mean Squared Error: 0.08\n",
      "Root Mean Squared Error: 0.29\n",
      "R^2 Score: nan\n",
      "Predicted User Rating for the new book: 4.43\n"
     ]
    },
    {
     "name": "stderr",
     "output_type": "stream",
     "text": [
      "C:\\Users\\KIIT\\anaconda3\\Lib\\site-packages\\sklearn\\metrics\\_regression.py:1211: UndefinedMetricWarning: R^2 score is not well-defined with less than two samples.\n",
      "  warnings.warn(msg, UndefinedMetricWarning)\n"
     ]
    }
   ],
   "source": [
    "from sklearn.model_selection import train_test_split\n",
    "from sklearn.preprocessing import OneHotEncoder, StandardScaler\n",
    "from sklearn.compose import ColumnTransformer\n",
    "from sklearn.ensemble import RandomForestRegressor\n",
    "from sklearn.pipeline import Pipeline\n",
    "from sklearn.metrics import mean_squared_error, r2_score\n",
    "import pandas as pd\n",
    "\n",
    "# Assuming 'df' is the DataFrame containing the necessary columns\n",
    "# Drop the 'Name' column since it's not useful for prediction\n",
    "X = df.drop(columns=['User Rating', 'Name'])  # Remove 'Name' and 'User Rating'\n",
    "y = df['User Rating']\n",
    "\n",
    "# Split the dataset into training and testing sets\n",
    "X_train, X_test, y_train, y_test = train_test_split(X, y, test_size=0.2, random_state=42)\n",
    "\n",
    "# Create the ColumnTransformer for preprocessing\n",
    "column_transformer = ColumnTransformer(\n",
    "    transformers=[\n",
    "        ('author_genre', OneHotEncoder(handle_unknown='ignore'), ['Author', 'Genre']),\n",
    "        ('scaler', StandardScaler(), ['Reviews', 'Price', 'Year'])\n",
    "    ],\n",
    "    remainder='passthrough'  # Keep other columns as they are (none left here after drop)\n",
    ")\n",
    "\n",
    "# Create the pipeline with preprocessing and model training\n",
    "pipeline = Pipeline(steps=[\n",
    "    ('preprocessor', column_transformer),\n",
    "    ('model', RandomForestRegressor(random_state=42))\n",
    "])\n",
    "\n",
    "# Fit the pipeline to the training data\n",
    "pipeline.fit(X_train, y_train)\n",
    "\n",
    "# Step 9: Make Predictions\n",
    "y_pred = pipeline.predict(X_test)\n",
    "\n",
    "# Step 10: Evaluate the Model Performance\n",
    "mse = mean_squared_error(y_test, y_pred)\n",
    "rmse = mse ** 0.5\n",
    "r2 = r2_score(y_test, y_pred)\n",
    "\n",
    "# Print the evaluation metrics\n",
    "print(f\"Mean Squared Error: {mse:.2f}\")\n",
    "print(f\"Root Mean Squared Error: {rmse:.2f}\")\n",
    "print(f\"R^2 Score: {r2:.2f}\")\n",
    "\n",
    "# Step 11: Predict User Rating for a New Book\n",
    "\n",
    "# Create a DataFrame for the new data (without the 'Name' column)\n",
    "new_data = pd.DataFrame([{\n",
    "    'Author': 'J.K. Rowling',  # Original value before encoding\n",
    "    'Reviews': 3000,\n",
    "    'Price': 18.99,\n",
    "    'Year': 2021,\n",
    "    'Genre': 'Fantasy'  # Original value before encoding\n",
    "}])\n",
    "\n",
    "# Use the pipeline to predict the User Rating for the new data\n",
    "predicted_rating = pipeline.predict(new_data)\n",
    "print(f\"Predicted User Rating for the new book: {predicted_rating[0]:.2f}\")\n"
   ]
  },
  {
   "cell_type": "code",
   "execution_count": null,
   "id": "96b30fc5-6502-4c6d-8fd5-655627cbcd50",
   "metadata": {},
   "outputs": [],
   "source": []
  }
 ],
 "metadata": {
  "kernelspec": {
   "display_name": "Python [conda env:base] *",
   "language": "python",
   "name": "conda-base-py"
  },
  "language_info": {
   "codemirror_mode": {
    "name": "ipython",
    "version": 3
   },
   "file_extension": ".py",
   "mimetype": "text/x-python",
   "name": "python",
   "nbconvert_exporter": "python",
   "pygments_lexer": "ipython3",
   "version": "3.12.7"
  }
 },
 "nbformat": 4,
 "nbformat_minor": 5
}
